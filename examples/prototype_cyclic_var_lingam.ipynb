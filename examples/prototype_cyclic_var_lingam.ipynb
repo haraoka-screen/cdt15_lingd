{
 "cells": [
  {
   "cell_type": "code",
   "execution_count": 1,
   "id": "0ca94cc6-4c6c-4612-84c2-4b0cc283974f",
   "metadata": {
    "tags": []
   },
   "outputs": [
    {
     "name": "stdout",
     "output_type": "stream",
     "text": [
      "numpy 1.24.4\n",
      "pandas 2.0.3\n",
      "scipy 1.10.1\n",
      "lingam 1.9.1\n",
      "sklearn 1.3.2\n",
      "matplotlib 3.7.5\n",
      "graphviz 0.20.3\n"
     ]
    }
   ],
   "source": [
    "import os\n",
    "import shutil\n",
    "import requests\n",
    "import itertools\n",
    "\n",
    "import numpy as np\n",
    "import pandas as pd\n",
    "import networkx as nx\n",
    "\n",
    "from lingam import VARLiNGAM\n",
    "\n",
    "import matplotlib.pyplot as plt\n",
    "import graphviz as gv\n",
    "from IPython.display import display, Markdown\n",
    "\n",
    "# versions\n",
    "import scipy\n",
    "import lingam\n",
    "import sklearn\n",
    "import matplotlib\n",
    "for lib in [np, pd, scipy, lingam, sklearn, matplotlib, gv]:\n",
    "    print(lib.__name__, lib.__version__)"
   ]
  },
  {
   "cell_type": "markdown",
   "id": "e515496d-8d5a-4b9e-b0c2-22b115c184b7",
   "metadata": {},
   "source": [
    "## LiNGDの準備"
   ]
  },
  {
   "cell_type": "code",
   "execution_count": 2,
   "id": "00c20960-035e-4353-af17-bdba3e4dfc3d",
   "metadata": {
    "tags": []
   },
   "outputs": [],
   "source": [
    "# pip\n",
    "from lingd import LiNGD\n"
   ]
  },
  {
   "cell_type": "markdown",
   "id": "0de7ab11-4892-46f4-aef9-9215d2cf0825",
   "metadata": {},
   "source": [
    "## 関数定義"
   ]
  },
  {
   "cell_type": "code",
   "execution_count": 3,
   "id": "f9c190a3-fbbb-4ad3-948c-c4a718de2a81",
   "metadata": {
    "tags": []
   },
   "outputs": [],
   "source": [
    "# 係数の範囲\n",
    "COEF_RANGE = 0, 0.3\n",
    "\n",
    "def _make_dag(n_features=8, is_shuffle=True):\n",
    "    sign = np.random.choice([-1, 1], size=(n_features, n_features))\n",
    "    coef = np.random.uniform(*COEF_RANGE, size=(n_features, n_features))\n",
    "    sparse = np.random.choice([0, 1], p=[0.3, 0.7], size=(n_features, n_features))\n",
    "\n",
    "    graph = np.tril(sign * coef * sparse, k=-1)\n",
    "    graph[np.isclose(graph, 0)] = 0\n",
    "    \n",
    "    if is_shuffle:\n",
    "        indices = np.random.permutation(n_features)\n",
    "        graph = graph[indices][:, indices]\n",
    "    \n",
    "    G = nx.from_numpy_array(graph.T, create_using=nx.DiGraph)\n",
    "    causal_order = list(nx.topological_sort(G))\n",
    "    \n",
    "    return graph, causal_order\n",
    "\n",
    "def _make_tau_coefs(tau_len, n_features=8):\n",
    "    coefs = []\n",
    "    for i in range(tau_len):\n",
    "        sign = np.random.choice([-1, 1], size=(n_features, n_features))\n",
    "        coef = np.random.uniform(*COEF_RANGE, size=(n_features, n_features))\n",
    "        sparse = np.random.choice([0, 1], p=[0.5, 0.5], size=(n_features, n_features))\n",
    "\n",
    "        coef = sign * coef * sparse\n",
    "        coef[np.isclose(coef, 0)] = 0\n",
    "        \n",
    "        coefs.append(coef)\n",
    "    return coefs\n",
    "\n",
    "def _generate_var_graph(n_features=4, n_lags=1, is_shuffle=True):\n",
    "    B = np.empty((n_lags + 1, n_features, n_features))\n",
    "    \n",
    "    B[0], causal_order = _make_dag(n_features=n_features, is_shuffle=is_shuffle)\n",
    "    B[1:] = _make_tau_coefs(n_lags, n_features=n_features)\n",
    "    return B, causal_order\n",
    "\n",
    "def _get_example_graph():\n",
    "    B = np.array([\n",
    "        [\n",
    "            [0,-0.12,0,0,0],\n",
    "            [0,0,0,0,0],\n",
    "            [-0.41,0.01,0,-0.02,0],\n",
    "            [0.04,-0.22,0,0,0],\n",
    "            [0.15,0,-0.03,0,0],\n",
    "        ],\n",
    "        [\n",
    "            [-0.32,0,0.12,0.32,0],\n",
    "            [0,-0.35,-0.1,-0.46,0.4],\n",
    "            [0,0,0.37,0,0.46],\n",
    "            [-0.38,-0.1,-0.24,0,-0.13],\n",
    "            [0,0,0,0,0],\n",
    "        ]\n",
    "    ])\n",
    "\n",
    "    causal_order = [1, 0, 3, 2, 4]\n",
    "    \n",
    "    return B, causal_order\n",
    "\n",
    "def _make_var_data(B, T=100):\n",
    "    k = len(B) - 1\n",
    "    n_features = len(B[0])\n",
    "    \n",
    "    I_minus_B0_inv = np.linalg.pinv(np.eye(n_features) - B[0])\n",
    "\n",
    "    X = np.empty((T * 2, n_features))\n",
    "\n",
    "    for t in range(T * 2):\n",
    "        lag = min(k, t)\n",
    "\n",
    "        lag_data = np.array(X[t - lag:t])\n",
    "        if len(lag_data) == 0:\n",
    "            lag_data = 0\n",
    "        else:\n",
    "            lag_data = np.hstack(B[1:]) @ np.vstack(lag_data[::-1].T) \n",
    "\n",
    "        e = np.random.uniform(size=(n_features, 1))\n",
    "        X[t] = (I_minus_B0_inv @ (lag_data + e)).T\n",
    "\n",
    "    return X[-T:]\n",
    "    \n",
    "def _make_cycle_path(B, max_trial = 10):\n",
    "    \"\"\" 即時間の関係に巡回を与える \"\"\"\n",
    "    G = nx.from_numpy_array(B[0].T, create_using=nx.DiGraph)\n",
    "    \n",
    "    # 探索するパス\n",
    "    pairs = list(itertools.permutations(range(len(B[0])), 2))\n",
    "    pairs = np.random.permutation(pairs)\n",
    "    \n",
    "    target = None\n",
    "    for s, d in pairs:\n",
    "        if not nx.is_simple_path(G, (s, d)):\n",
    "            continue\n",
    "        \n",
    "        # 経路長1しかないものはなるべく防ぐ。\n",
    "        if True:\n",
    "            paths = nx.shortest_simple_paths(G, s, d)\n",
    "            path_lens = [len(p) - 1 for p in paths]\n",
    "            if max(path_lens) < 2:\n",
    "                target = (s, d)\n",
    "                continue\n",
    "            \n",
    "        # 逆向きのパスを追加\n",
    "        target = (s, d)\n",
    "        break\n",
    "    \n",
    "    if target is None:\n",
    "        raise ValueError(\"no path\")\n",
    "        \n",
    "    Bc = B.copy()\n",
    "    Bc[0][target[0], target[1]] = np.random.choice([-1, 1]) * np.random.uniform(*COEF_RANGE)\n",
    "    \n",
    "    return Bc\n",
    "\n",
    "def _visualize(B_true, B_est, s=10):\n",
    "    fig, axes = plt.subplots(1, len(B_true), figsize=(len(B_true)*3, 3))\n",
    "    for i, (true, est) in enumerate(zip(B_true, B_est)):\n",
    "        axes[i].scatter(true.ravel(), est.ravel(), s=s)\n",
    "        axes[i].set_xlabel(\"true coefs\")\n",
    "        axes[i].set_ylabel(\"estimated coefs\")\n",
    "        axes[i].set_title(f\"tau={i}\")\n",
    "    plt.tight_layout()\n",
    "    plt.show()"
   ]
  },
  {
   "cell_type": "markdown",
   "id": "bca55117-b366-42da-bc20-98d36a5b5e96",
   "metadata": {},
   "source": [
    "## 試しに実行\n",
    "100回実行して、その結果をひとまとめの散布図に描画する。"
   ]
  },
  {
   "cell_type": "code",
   "execution_count": 4,
   "id": "aa21f6a0-ed02-42d1-9cf7-d7b751c19e58",
   "metadata": {},
   "outputs": [
    {
     "data": {
      "image/png": "[encoded data removed]",
      "text/plain": [
       "<Figure size 432x216 with 2 Axes>"
      ]
     },
     "metadata": {
      "needs_background": "light"
     },
     "output_type": "display_data"
    }
   ],
   "source": [
    "B_true = []\n",
    "B_est = []\n",
    "\n",
    "for i in range(100):\n",
    "    B, causal_order = _generate_var_graph(is_shuffle=False)\n",
    "    X = _make_var_data(B, T=1000)\n",
    "    \n",
    "    # 係数の大きさに注意。発散しないように。\n",
    "    if np.isnan(X).sum().sum() > 0:\n",
    "        raise ValueError(\"X has nans\")\n",
    "\n",
    "    model = VARLiNGAM(lags=1, prune=True)\n",
    "    model.fit(X)\n",
    "    \n",
    "    B_true.append(B)\n",
    "    B_est.append(model.adjacency_matrices_)\n",
    "\n",
    "B_true = np.array(B_true)\n",
    "B_est = np.array(B_est)\n",
    "\n",
    "# 各時刻ごとに結果の係数をひとまとめにする(軸を入れ替えて100回分をそれぞれconcatして元に戻す)\n",
    "concat = lambda x: np.transpose(np.concatenate(np.transpose(x, (0, 2, 3, 1))), (2, 0, 1))\n",
    "_visualize(concat(B_true), concat(B_est), s=1)"
   ]
  },
  {
   "cell_type": "markdown",
   "id": "f55bdb69-f856-4e1e-8d42-48a4fbd8ad2a",
   "metadata": {},
   "source": [
    "小さい係数が枝刈りされている？VARLiNGAMのpruneをFalseにすると、ラグ側で特に十字が薄まる。"
   ]
  },
  {
   "cell_type": "markdown",
   "id": "8fec6e17-0c13-400c-86c2-1ab1fb73c945",
   "metadata": {
    "tags": []
   },
   "source": [
    "## 巡回を与える"
   ]
  },
  {
   "cell_type": "code",
   "execution_count": 5,
   "id": "3fb1ab09-921e-4694-a23e-de4ab9451268",
   "metadata": {
    "tags": []
   },
   "outputs": [
    {
     "data": {
      "image/svg+xml": [
       "<?xml version=\"1.0\" encoding=\"UTF-8\" standalone=\"no\"?>\n",
       "<!DOCTYPE svg PUBLIC \"-//W3C//DTD SVG 1.1//EN\"\n",
       " \"http://www.w3.org/Graphics/SVG/1.1/DTD/svg11.dtd\">\n",
       "<!-- Generated by graphviz version 2.43.0 (0)\n",
       " -->\n",
       "<!-- Title: %3 Pages: 1 -->\n",
       "<svg width=\"126pt\" height=\"305pt\"\n",
       " viewBox=\"0.00 0.00 126.00 305.00\" xmlns=\"http://www.w3.org/2000/svg\" xmlns:xlink=\"http://www.w3.org/1999/xlink\">\n",
       "<g id=\"graph0\" class=\"graph\" transform=\"scale(1 1) rotate(0) translate(4 301)\">\n",
       "<title>%3</title>\n",
       "<polygon fill=\"white\" stroke=\"transparent\" points=\"-4,4 -4,-301 122,-301 122,4 -4,4\"/>\n",
       "<!-- x0 -->\n",
       "<g id=\"node1\" class=\"node\">\n",
       "<title>x0</title>\n",
       "<ellipse fill=\"none\" stroke=\"black\" cx=\"58\" cy=\"-279\" rx=\"27\" ry=\"18\"/>\n",
       "<text text-anchor=\"middle\" x=\"58\" y=\"-275.3\" font-family=\"Times,serif\" font-size=\"14.00\">x0</text>\n",
       "</g>\n",
       "<!-- x2 -->\n",
       "<g id=\"node3\" class=\"node\">\n",
       "<title>x2</title>\n",
       "<ellipse fill=\"none\" stroke=\"black\" cx=\"27\" cy=\"-192\" rx=\"27\" ry=\"18\"/>\n",
       "<text text-anchor=\"middle\" x=\"27\" y=\"-188.3\" font-family=\"Times,serif\" font-size=\"14.00\">x2</text>\n",
       "</g>\n",
       "<!-- x0&#45;&gt;x2 -->\n",
       "<g id=\"edge2\" class=\"edge\">\n",
       "<title>x0&#45;&gt;x2</title>\n",
       "<path fill=\"none\" stroke=\"black\" d=\"M51.13,-261.33C48.8,-255.55 46.22,-249.02 44,-243 41.17,-235.35 38.25,-226.97 35.65,-219.3\"/>\n",
       "<polygon fill=\"black\" stroke=\"black\" points=\"38.95,-218.11 32.45,-209.74 32.31,-220.34 38.95,-218.11\"/>\n",
       "<text text-anchor=\"middle\" x=\"60\" y=\"-231.8\" font-family=\"Times,serif\" font-size=\"14.00\">0.12</text>\n",
       "</g>\n",
       "<!-- x3 -->\n",
       "<g id=\"node4\" class=\"node\">\n",
       "<title>x3</title>\n",
       "<ellipse fill=\"none\" stroke=\"black\" cx=\"86\" cy=\"-105\" rx=\"27\" ry=\"18\"/>\n",
       "<text text-anchor=\"middle\" x=\"86\" y=\"-101.3\" font-family=\"Times,serif\" font-size=\"14.00\">x3</text>\n",
       "</g>\n",
       "<!-- x0&#45;&gt;x3 -->\n",
       "<g id=\"edge4\" class=\"edge\">\n",
       "<title>x0&#45;&gt;x3</title>\n",
       "<path fill=\"none\" stroke=\"black\" d=\"M67.85,-262.18C71,-256.36 74.15,-249.58 76,-243 86.37,-206.11 87.66,-161.56 87.18,-133.5\"/>\n",
       "<polygon fill=\"black\" stroke=\"black\" points=\"90.68,-133.16 86.92,-123.25 83.68,-133.34 90.68,-133.16\"/>\n",
       "<text text-anchor=\"middle\" x=\"102\" y=\"-188.3\" font-family=\"Times,serif\" font-size=\"14.00\">0.15</text>\n",
       "</g>\n",
       "<!-- x1 -->\n",
       "<g id=\"node2\" class=\"node\">\n",
       "<title>x1</title>\n",
       "<ellipse fill=\"none\" stroke=\"black\" cx=\"38\" cy=\"-18\" rx=\"27\" ry=\"18\"/>\n",
       "<text text-anchor=\"middle\" x=\"38\" y=\"-14.3\" font-family=\"Times,serif\" font-size=\"14.00\">x1</text>\n",
       "</g>\n",
       "<!-- x1&#45;&gt;x2 -->\n",
       "<g id=\"edge3\" class=\"edge\">\n",
       "<title>x1&#45;&gt;x2</title>\n",
       "<path fill=\"none\" stroke=\"black\" d=\"M31.61,-35.75C26.79,-49.33 20.58,-69.1 18,-87 14.24,-113.09 17.66,-143.1 21.31,-164.16\"/>\n",
       "<polygon fill=\"black\" stroke=\"black\" points=\"17.87,-164.81 23.15,-174 24.75,-163.53 17.87,-164.81\"/>\n",
       "<text text-anchor=\"middle\" x=\"34\" y=\"-101.3\" font-family=\"Times,serif\" font-size=\"14.00\">0.02</text>\n",
       "</g>\n",
       "<!-- x1&#45;&gt;x3 -->\n",
       "<g id=\"edge5\" class=\"edge\">\n",
       "<title>x1&#45;&gt;x3</title>\n",
       "<path fill=\"none\" stroke=\"black\" d=\"M53.81,-32.74C59.91,-38.74 66.49,-46.19 71,-54 75.1,-61.09 78.17,-69.41 80.43,-77.2\"/>\n",
       "<polygon fill=\"black\" stroke=\"black\" points=\"77.07,-78.19 82.96,-87 83.85,-76.44 77.07,-78.19\"/>\n",
       "<text text-anchor=\"middle\" x=\"93\" y=\"-57.8\" font-family=\"Times,serif\" font-size=\"14.00\">0.07</text>\n",
       "</g>\n",
       "<!-- x2&#45;&gt;x3 -->\n",
       "<g id=\"edge6\" class=\"edge\">\n",
       "<title>x2&#45;&gt;x3</title>\n",
       "<path fill=\"none\" stroke=\"black\" d=\"M28.22,-173.63C29.62,-163.43 32.61,-150.69 39,-141 43.65,-133.95 50.22,-127.8 56.98,-122.7\"/>\n",
       "<polygon fill=\"black\" stroke=\"black\" points=\"59.27,-125.37 65.51,-116.81 55.3,-119.61 59.27,-125.37\"/>\n",
       "<text text-anchor=\"middle\" x=\"57.5\" y=\"-144.8\" font-family=\"Times,serif\" font-size=\"14.00\">&#45;0.06</text>\n",
       "</g>\n",
       "<!-- x3&#45;&gt;x1 -->\n",
       "<g id=\"edge1\" class=\"edge\">\n",
       "<title>x3&#45;&gt;x1</title>\n",
       "<path fill=\"none\" stroke=\"black\" d=\"M64.54,-93.76C54.91,-87.94 44.49,-79.67 39,-69 35.45,-62.1 34.26,-53.92 34.21,-46.2\"/>\n",
       "<polygon fill=\"black\" stroke=\"black\" points=\"37.71,-46.29 34.73,-36.12 30.72,-45.92 37.71,-46.29\"/>\n",
       "<text text-anchor=\"middle\" x=\"55\" y=\"-57.8\" font-family=\"Times,serif\" font-size=\"14.00\">0.21</text>\n",
       "</g>\n",
       "</g>\n",
       "</svg>\n"
      ],
      "text/plain": [
       "<graphviz.graphs.Digraph at 0x7f3636bd8730>"
      ]
     },
     "metadata": {},
     "output_type": "display_data"
    },
    {
     "data": {
      "image/svg+xml": [
       "<?xml version=\"1.0\" encoding=\"UTF-8\" standalone=\"no\"?>\n",
       "<!DOCTYPE svg PUBLIC \"-//W3C//DTD SVG 1.1//EN\"\n",
       " \"http://www.w3.org/Graphics/SVG/1.1/DTD/svg11.dtd\">\n",
       "<!-- Generated by graphviz version 2.43.0 (0)\n",
       " -->\n",
       "<!-- Title: %3 Pages: 1 -->\n",
       "<svg width=\"182pt\" height=\"218pt\"\n",
       " viewBox=\"0.00 0.00 182.00 218.00\" xmlns=\"http://www.w3.org/2000/svg\" xmlns:xlink=\"http://www.w3.org/1999/xlink\">\n",
       "<g id=\"graph0\" class=\"graph\" transform=\"scale(1 1) rotate(0) translate(4 214)\">\n",
       "<title>%3</title>\n",
       "<polygon fill=\"white\" stroke=\"transparent\" points=\"-4,4 -4,-214 178,-214 178,4 -4,4\"/>\n",
       "<!-- x0 -->\n",
       "<g id=\"node1\" class=\"node\">\n",
       "<title>x0</title>\n",
       "<ellipse fill=\"none\" stroke=\"black\" cx=\"27\" cy=\"-192\" rx=\"27\" ry=\"18\"/>\n",
       "<text text-anchor=\"middle\" x=\"27\" y=\"-188.3\" font-family=\"Times,serif\" font-size=\"14.00\">x0</text>\n",
       "</g>\n",
       "<!-- x2 -->\n",
       "<g id=\"node3\" class=\"node\">\n",
       "<title>x2</title>\n",
       "<ellipse fill=\"none\" stroke=\"black\" cx=\"81\" cy=\"-105\" rx=\"27\" ry=\"18\"/>\n",
       "<text text-anchor=\"middle\" x=\"81\" y=\"-101.3\" font-family=\"Times,serif\" font-size=\"14.00\">x2</text>\n",
       "</g>\n",
       "<!-- x0&#45;&gt;x2 -->\n",
       "<g id=\"edge1\" class=\"edge\">\n",
       "<title>x0&#45;&gt;x2</title>\n",
       "<path fill=\"none\" stroke=\"black\" d=\"M36.02,-174.55C41.56,-164.68 48.93,-151.96 56,-141 58.37,-137.33 60.96,-133.51 63.55,-129.8\"/>\n",
       "<polygon fill=\"black\" stroke=\"black\" points=\"66.53,-131.64 69.48,-121.46 60.83,-127.58 66.53,-131.64\"/>\n",
       "<text text-anchor=\"middle\" x=\"72\" y=\"-144.8\" font-family=\"Times,serif\" font-size=\"14.00\">0.12</text>\n",
       "</g>\n",
       "<!-- x3 -->\n",
       "<g id=\"node4\" class=\"node\">\n",
       "<title>x3</title>\n",
       "<ellipse fill=\"none\" stroke=\"black\" cx=\"81\" cy=\"-18\" rx=\"27\" ry=\"18\"/>\n",
       "<text text-anchor=\"middle\" x=\"81\" y=\"-14.3\" font-family=\"Times,serif\" font-size=\"14.00\">x3</text>\n",
       "</g>\n",
       "<!-- x0&#45;&gt;x3 -->\n",
       "<g id=\"edge3\" class=\"edge\">\n",
       "<title>x0&#45;&gt;x3</title>\n",
       "<path fill=\"none\" stroke=\"black\" d=\"M19.74,-174.47C11.57,-153.38 0.94,-116.12 13,-87 21.36,-66.83 38.92,-49.52 54.11,-37.41\"/>\n",
       "<polygon fill=\"black\" stroke=\"black\" points=\"56.38,-40.08 62.22,-31.24 52.14,-34.51 56.38,-40.08\"/>\n",
       "<text text-anchor=\"middle\" x=\"29\" y=\"-101.3\" font-family=\"Times,serif\" font-size=\"14.00\">0.15</text>\n",
       "</g>\n",
       "<!-- x1 -->\n",
       "<g id=\"node2\" class=\"node\">\n",
       "<title>x1</title>\n",
       "<ellipse fill=\"none\" stroke=\"black\" cx=\"107\" cy=\"-192\" rx=\"27\" ry=\"18\"/>\n",
       "<text text-anchor=\"middle\" x=\"107\" y=\"-188.3\" font-family=\"Times,serif\" font-size=\"14.00\">x1</text>\n",
       "</g>\n",
       "<!-- x1&#45;&gt;x2 -->\n",
       "<g id=\"edge2\" class=\"edge\">\n",
       "<title>x1&#45;&gt;x2</title>\n",
       "<path fill=\"none\" stroke=\"black\" d=\"M101.86,-174.21C98.23,-162.33 93.29,-146.17 89.12,-132.56\"/>\n",
       "<polygon fill=\"black\" stroke=\"black\" points=\"92.4,-131.3 86.13,-122.76 85.7,-133.34 92.4,-131.3\"/>\n",
       "<text text-anchor=\"middle\" x=\"111\" y=\"-144.8\" font-family=\"Times,serif\" font-size=\"14.00\">0.02</text>\n",
       "</g>\n",
       "<!-- x1&#45;&gt;x3 -->\n",
       "<g id=\"edge4\" class=\"edge\">\n",
       "<title>x1&#45;&gt;x3</title>\n",
       "<path fill=\"none\" stroke=\"black\" d=\"M119.65,-175.95C123.79,-170.1 127.87,-163.11 130,-156 137.87,-129.69 156.57,-120.75 122,-54 118.7,-47.63 113.71,-41.95 108.33,-37.1\"/>\n",
       "<polygon fill=\"black\" stroke=\"black\" points=\"110.29,-34.19 100.32,-30.62 105.89,-39.63 110.29,-34.19\"/>\n",
       "<text text-anchor=\"middle\" x=\"158\" y=\"-101.3\" font-family=\"Times,serif\" font-size=\"14.00\">0.07</text>\n",
       "</g>\n",
       "<!-- x2&#45;&gt;x3 -->\n",
       "<g id=\"edge5\" class=\"edge\">\n",
       "<title>x2&#45;&gt;x3</title>\n",
       "<path fill=\"none\" stroke=\"black\" d=\"M81,-86.8C81,-75.16 81,-59.55 81,-46.24\"/>\n",
       "<polygon fill=\"black\" stroke=\"black\" points=\"84.5,-46.18 81,-36.18 77.5,-46.18 84.5,-46.18\"/>\n",
       "<text text-anchor=\"middle\" x=\"99.5\" y=\"-57.8\" font-family=\"Times,serif\" font-size=\"14.00\">&#45;0.06</text>\n",
       "</g>\n",
       "</g>\n",
       "</svg>\n"
      ],
      "text/plain": [
       "<graphviz.graphs.Digraph at 0x7f3672efea00>"
      ]
     },
     "metadata": {},
     "output_type": "display_data"
    }
   ],
   "source": [
    "# おためし\n",
    "B, causal_order = _generate_var_graph(is_shuffle=False)\n",
    "Bc = _make_cycle_path(B)\n",
    "\n",
    "display(lingam.utils.make_dot(Bc[0], lower_limit=0))\n",
    "display(lingam.utils.make_dot(B[0], lower_limit=0))"
   ]
  },
  {
   "cell_type": "markdown",
   "id": "78e8cf9d-4655-4568-87b3-79c78aabf789",
   "metadata": {},
   "source": [
    "同様に実行する。"
   ]
  },
  {
   "cell_type": "code",
   "execution_count": 6,
   "id": "1c65d5de-dc53-41e9-88da-4c92a7d18601",
   "metadata": {
    "tags": []
   },
   "outputs": [
    {
     "data": {
      "image/png": "[encoded data removed]",
      "text/plain": [
       "<Figure size 432x216 with 2 Axes>"
      ]
     },
     "metadata": {
      "needs_background": "light"
     },
     "output_type": "display_data"
    }
   ],
   "source": [
    "B_true = []\n",
    "B_est = []\n",
    "\n",
    "for i in range(100):\n",
    "    B, causal_order = _generate_var_graph(is_shuffle=False)\n",
    "    \n",
    "    # 追加分\n",
    "    B = _make_cycle_path(B)\n",
    "    \n",
    "    X = _make_var_data(B, T=1000)\n",
    "    \n",
    "    # 係数の大きさに注意。発散しないように。\n",
    "    if np.isnan(X).sum().sum() > 0:\n",
    "        raise ValueError(\"X has nans\")\n",
    "\n",
    "    model = VARLiNGAM(lags=1, prune=True)\n",
    "    model.fit(X)\n",
    "    \n",
    "    B_true.append(B)\n",
    "    B_est.append(model.adjacency_matrices_)\n",
    "\n",
    "B_true = np.array(B_true)\n",
    "B_est = np.array(B_est)\n",
    "\n",
    "# 各時刻ごとに結果の係数をひとまとめにする(軸を入れ替えて100回分をそれぞれconcatして元に戻す)\n",
    "concat = lambda x: np.transpose(np.concatenate(np.transpose(x, (0, 2, 3, 1))), (2, 0, 1))\n",
    "_visualize(concat(B_true), concat(B_est), s=1)"
   ]
  },
  {
   "cell_type": "markdown",
   "id": "4130ab57-e58b-4325-b694-f4cd07274d63",
   "metadata": {},
   "source": [
    "巡回のせいか、tau=0の方は、先ほどよりも予測値が0になってしまうことが増えている。巡回が部分が関係ないラグ部分はそれほど変わらない。"
   ]
  },
  {
   "cell_type": "markdown",
   "id": "80a7c781-a482-4249-a820-69db91ab89ce",
   "metadata": {},
   "source": [
    "## 巡回VARLiNGAMの実装"
   ]
  },
  {
   "cell_type": "code",
   "execution_count": 7,
   "id": "3219f2fa-7b49-43c3-8c0d-3ac8cc761a4a",
   "metadata": {
    "tags": []
   },
   "outputs": [],
   "source": [
    "from sklearn.utils import check_array, check_scalar, check_random_state\n",
    "\n",
    "class CyclicVARLiNGAM(VARLiNGAM):\n",
    "    \n",
    "    def __init__(self, k=1, random_state=None, **kwargs):\n",
    "        if \"lingam_model\" in kwargs:\n",
    "            del kwargs[\"lingam_model\"]\n",
    "        \n",
    "        super().__init__(**kwargs, random_state=random_state)\n",
    "        \n",
    "        self._k = k\n",
    "        self._random_state = random_state\n",
    "    \n",
    "    # 上書き\n",
    "    def fit(self, X):\n",
    "        \"\"\"Fit the model to X.\n",
    "\n",
    "        Parameters\n",
    "        ----------\n",
    "        X: array-like, shape (n_samples, n_features)\n",
    "            Training data, where ``n_samples`` is the number of samples\n",
    "            and ``n_features`` is the number of features.\n",
    "\n",
    "        returns\n",
    "        -------\n",
    "        self : object\n",
    "            Returns the instance itself.\n",
    "        \"\"\"\n",
    "        self._causal_order = None\n",
    "        self._adjacency_matrices = None\n",
    "        \n",
    "        # LiNGD\n",
    "        self._causal_orders = []\n",
    "        self._adjacency_matrices_list = []\n",
    "        self._costs = []\n",
    "        self._is_stables = []\n",
    "\n",
    "        # check inputs\n",
    "        X = check_array(X)\n",
    "        k = check_scalar(self._k, \"k\", int, min_val=1)\n",
    "        random_state = check_random_state(self._random_state)\n",
    "\n",
    "        M_taus = self._ar_coefs\n",
    "\n",
    "        if M_taus is None:\n",
    "            M_taus, lags, residuals = self._estimate_var_coefs(X)\n",
    "        else:\n",
    "            lags = M_taus.shape[0]\n",
    "            residuals = self._calc_residuals(X, M_taus, lags)\n",
    "\n",
    "        model = LiNGD(k=k)\n",
    "        model.fit(residuals)\n",
    "\n",
    "        B_taus_list = []\n",
    "        for is_stables, adj, costs, in zip(model.is_stables_, model.adjacency_matrices_, model.costs_):\n",
    "            B_taus = self._calc_b(X, adj, M_taus)\n",
    "            B_taus_list.append(B_taus)\n",
    "            \n",
    "            # XXX: LiNGDにはcausal_orderがない！\n",
    "            #if self._prune:\n",
    "            #    B_taus = self._pruning(X, B_taus, model.causal_order_)\n",
    "        \n",
    "        # 最高の結果(stableかつ最もコストが低い)を選ぶ\n",
    "        if np.all(~model.is_stables_):\n",
    "            best_index = np.argmin(model.costs_).ravel()[0]\n",
    "        else:\n",
    "            best_index = np.argmin(model.costs_[model.is_stables_]).ravel()[0]\n",
    "        B_taus_best = B_taus_list[best_index]\n",
    "            \n",
    "        self._ar_coefs = M_taus\n",
    "        self._lags = lags\n",
    "        self._residuals = residuals\n",
    "        \n",
    "        # 今回追加するプロパティ\n",
    "        # XXX: LiNGDにはcausal_orderがない！\n",
    "        #self._causal_order_list = model.causal_order_\n",
    "        self._adjacency_matrices_list = np.array(B_taus_list)\n",
    "        self._is_stables = model.is_stables_\n",
    "        self._costs = model.costs_\n",
    "        \n",
    "        # XXX: LiNGDにはcausal_orderがない！\n",
    "        #self._causal_order = model.causal_order_\n",
    "        self._adjacency_matrices = B_taus_best\n",
    "\n",
    "        return self\n",
    "    \n",
    "    @property\n",
    "    def adjacency_matrices_list_(self):\n",
    "        return self._adjacency_matrices_list\n",
    "    @property\n",
    "    def is_stables_(self):\n",
    "        return self._is_stables\n",
    "    @property\n",
    "    def costs_(self):\n",
    "        return self._costs\n",
    "    \n",
    "from lingd import CyclicVARLiNGAM"
   ]
  },
  {
   "cell_type": "markdown",
   "id": "58649e22-d491-45b4-bec2-be6804828bc8",
   "metadata": {},
   "source": [
    "先ほどと同様に巡回ありのグラフでデータ生成して、巡回VARLiNGAMに与えて推定する。"
   ]
  },
  {
   "cell_type": "code",
   "execution_count": 8,
   "id": "817021d6-731a-4d1f-a665-6b8707ebb1dd",
   "metadata": {
    "tags": []
   },
   "outputs": [
    {
     "name": "stdout",
     "output_type": "stream",
     "text": [
      "  OK\n"
     ]
    },
    {
     "data": {
      "image/png": "[encoded data removed]",
      "text/plain": [
       "<Figure size 432x216 with 2 Axes>"
      ]
     },
     "metadata": {
      "needs_background": "light"
     },
     "output_type": "display_data"
    }
   ],
   "source": [
    "B_true = []\n",
    "B_est = []\n",
    "\n",
    "before_modification = []\n",
    "is_modified = []\n",
    "\n",
    "for i in range(100):\n",
    "    print(f\"{i:3d}\", end=\"\\r\")\n",
    "    B, causal_order = _generate_var_graph(is_shuffle=False)\n",
    "    \n",
    "    # 追加分\n",
    "    B_ = _make_cycle_path(B)\n",
    "    before_modification.append(B.copy())\n",
    "    is_modified.append(~np.isclose(B_, B))\n",
    "    B = B_\n",
    "    \n",
    "    X = _make_var_data(B, T=1000)\n",
    "    \n",
    "    # 係数の大きさに注意。発散しないように。\n",
    "    if np.isnan(X).sum().sum() > 0:\n",
    "        raise ValueError(\"X has nans\")\n",
    "\n",
    "    #model = VARLiNGAM(lags=1, prune=True)\n",
    "    #model.fit(X)\n",
    "    k = 3\n",
    "    model = CyclicVARLiNGAM(k=k)\n",
    "    model.fit(X)\n",
    "    \n",
    "    B_true.append(B)\n",
    "    B_est.append(model.adjacency_matrices_)\n",
    "    \n",
    "print(\"  OK\")\n",
    "\n",
    "B_true = np.array(B_true)\n",
    "B_est = np.array(B_est)\n",
    "\n",
    "# 各時刻ごとに結果の係数をひとまとめにする(軸を入れ替えて100回分をそれぞれconcatして元に戻す)\n",
    "concat = lambda x: np.transpose(np.concatenate(np.transpose(x, (0, 2, 3, 1))), (2, 0, 1))\n",
    "_visualize(concat(B_true), concat(B_est), s=1)"
   ]
  },
  {
   "cell_type": "code",
   "execution_count": 9,
   "id": "c9660e67-b953-4290-a64d-58841b85fc07",
   "metadata": {},
   "outputs": [
    {
     "name": "stdout",
     "output_type": "stream",
     "text": [
      "[0. 0. 0. 0. 0. 0. 0. 0. 0. 0. 0. 0. 0. 0. 0. 0. 0. 0. 0. 0. 0. 0. 0. 0.\n",
      " 0. 0. 0. 0. 0. 0. 0. 0. 0. 0. 0. 0. 0. 0. 0. 0. 0. 0. 0. 0. 0. 0. 0. 0.\n",
      " 0. 0. 0. 0. 0. 0. 0. 0. 0. 0. 0. 0. 0. 0. 0. 0. 0. 0. 0. 0. 0. 0. 0. 0.\n",
      " 0. 0. 0. 0. 0. 0. 0. 0. 0. 0. 0. 0. 0. 0. 0. 0. 0. 0. 0. 0. 0. 0. 0. 0.\n",
      " 0. 0. 0. 0.]\n"
     ]
    },
    {
     "data": {
      "image/png": "[encoded data removed]",
      "text/plain": [
       "<Figure size 432x288 with 1 Axes>"
      ]
     },
     "metadata": {
      "needs_background": "light"
     },
     "output_type": "display_data"
    }
   ],
   "source": [
    "# 巡回部分の確認\n",
    "\n",
    "# 巡回作成のために修正した点は元々ゼロだったか？\n",
    "print(concat(before_modification)[concat(is_modified)])\n",
    "\n",
    "# 巡回作成のために加えた箇所の推定結果\n",
    "plt.scatter(\n",
    "    concat(B_true)[concat(is_modified)],\n",
    "    concat(B_est)[concat(is_modified)],\n",
    ")\n",
    "plt.show()"
   ]
  },
  {
   "cell_type": "code",
   "execution_count": null,
   "id": "db2b4eb1-99b1-49f4-a5e3-a4a933195bac",
   "metadata": {},
   "outputs": [],
   "source": []
  }
 ],
 "metadata": {
  "kernelspec": {
   "display_name": "Python 3 (ipykernel)",
   "language": "python",
   "name": "python3"
  },
  "language_info": {
   "codemirror_mode": {
    "name": "ipython",
    "version": 3
   },
   "file_extension": ".py",
   "mimetype": "text/x-python",
   "name": "python",
   "nbconvert_exporter": "python",
   "pygments_lexer": "ipython3",
   "version": "3.11.11"
  },
  "widgets": {
   "application/vnd.jupyter.widget-state+json": {
    "state": {},
    "version_major": 2,
    "version_minor": 0
   }
  }
 },
 "nbformat": 4,
 "nbformat_minor": 5
}
